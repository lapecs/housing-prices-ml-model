import pandas as pd
import numpy as np
import seaborn as sns
import matplotlib.pyplot as plt
from scipy import stats
from datetime import datetime

housing = pd.read_csv('Housing_Seattle_2014_15.csv')
housing.head()


# Evaluate data types and Nulls
housing.info()



# Investigate summary stats for all columns
housing.describe(include = 'all')


# Update dataset name to preserve original data/
housing_cleaned = housing

# Drop id column as this variable is not needed for modeling
housing_cleaned = housing_cleaned.drop('id', axis = 1)

# Update date column to datetime type
housing_cleaned['date'] = pd.to_datetime(housing_cleaned['date'])

# Convert all numeric columns to float64 (leaving non-numerics alone)
housing_cleaned = housing_cleaned.apply(lambda col: col.astype('float64') if np.issubdtype(col.dtype, np.number) else col)

# Drop rows with missing target or features
housing_cleaned = housing_cleaned.dropna(subset=["price"])

# Fill or drop remaining NaNs
housing_cleaned = housing_cleaned.fillna(0)


# Evaluate data types and Nulls
housing_cleaned.info()


# Investigate summary stats for all columns
housing_cleaned.describe(include = 'all')


# View boxplots & histograms of price to evaluate for any potential outliers
column = 'price'

plt.figure(figsize = (10, 6))

# Create subplots
ax1 = plt.subplot(2, 1, 1) # 2 rows, 1 column, 1st subplot (histogram)
ax2 = plt.subplot(2, 1, 2) # 2 rows, 1 column, 2nd subplot (boxplot)

sns.histplot(housing_cleaned[column], ax = ax1, color = 'skyblue', edgecolor = 'black')
ax1.set_title(f"Histogram of {column}")
ax1.set_xlabel(column)
ax1.set_ylabel("Frequency")

sns.boxplot(x = housing_cleaned[column], ax = ax2, color = 'orange')
ax2.set_title(f"Boxplot of {column}")
ax2.set_xlabel(column)

# Adjust layout for better spacing between plots
plt.tight_layout()
plt.show()


melted_housing = housing_cleaned.melt(value_vars = ['sqft_lot', 'sqft_lot15'])

plt.figure(figsize = (10, 6))

sns.boxplot(x = 'variable', y = 'value', data = melted_housing, color = 'orange')

plt.show()


melted_housing = housing_cleaned.melt(value_vars = ['sqft_living', 'sqft_above', 'sqft_basement', 'sqft_living15'])
plt.figure(figsize = (10, 6))
sns.boxplot(x = 'variable', y = 'value', data = melted_housing)
plt.show()


# Visual of bedrooms and bathrooms

columns = ['bedrooms', 'bathrooms', 'waterfront', 'view']

plt.figure(figsize=(12, 10))

for i, col in enumerate(columns):
    ax = plt.subplot(2, 2, i + 1)  # 2 rows, 2 columns, subplot index
    sns.histplot(housing_cleaned[col], kde=True, bins=20, ax=ax, color='skyblue', edgecolor='black')
    ax.set_title(f"Histogram of {col}")
    ax.set_xlabel(col)
    ax.set_ylabel("Frequency")

# Adjust layout for better spacing between plots
plt.tight_layout()
plt.show()


# Create a pairplots visualization
with sns.plotting_context("notebook", font_scale = 2.5):
    g = sns.pairplot(housing[['price', 'sqft_lot', 'sqft_above', 'sqft_living', 'sqft_basement', 'bedrooms', 'bathrooms']], 
                 hue = 'bedrooms', palette = 'tab20', height = 6)
g.set(xticklabels=[]);


# Write housing file to a JSON data set
housing_cleaned.to_json('housing_cleaned.json', orient = 'records', lines = True)

# Write cleaned housing file to a csv file
housing_cleaned.to_csv('housing_cleaned.csv')


from sklearn.preprocessing import StandardScaler


# Define columns
#We split the variables into 
ordinal_cols = ['condition', 'grade', 'view', 'floors']
numeric_cols = [
    'bedrooms', 'bathrooms', 'sqft_living', 'sqft_lot',
    'sqft_above', 'sqft_basement', 'yr_built', 'yr_renovated',
    'lat', 'long', 'sqft_living15', 'sqft_lot15'
]
target_col = 'price'

# Drop unnecessary columns
#Dropping date from the version for the neural net
housing_cleaned = housing_cleaned.drop(columns=['date'])  # if not used

# Treat zipcode as categorical integer - we are going to use learned embeddings later
housing_cleaned['zipcode'] = housing_cleaned['zipcode'].round().astype(int)

# Ensure ordinal columns are integers
housing_cleaned[ordinal_cols] = housing_cleaned[ordinal_cols].round().astype(int)

# Normalize numeric columns
scaler = StandardScaler()
housing_cleaned[numeric_cols] = scaler.fit_transform(housing_cleaned[numeric_cols])

# Save cleaned version for neural network
housing_cleaned.to_csv("housing_for_nn.csv", index=False)



